{
 "cells": [
  {
   "cell_type": "markdown",
   "source": "# Machine Learning Project \n#### Forensic Glass Fragment Analysis using Classification \n---\n\n*Ludek Cizinský (luci@itu.dk)*, *Lukas Rasocha (lukr@itu.dk)*, *Mika Senghaas (jsen@itu.dk)*\n\nLecturers: *Therese Graversen*, *Djordje Grbic*, *Payam Zahadat*\n\nDeadline: *3rd of January 2022*\n\nLast Modified: *24th of Novemeber 2021*",
   "metadata": {
    "cell_id": "00000-bf007d59-829d-470b-97f9-9cf7555e0f34",
    "tags": [],
    "deepnote_cell_type": "markdown"
   }
  },
  {
   "cell_type": "markdown",
   "source": "## Assignment Description\n---\nThis project explores the possibility of using the elemental composition and refractive index to determine the origin of a very small glass fragment. This was studied by Evett and Spiehler (1987), who wrote in their paper:\n\n```\nGlass is a material which figures prominently in the investigation of crimes such as burglary and criminal damage in which it is common for a window to be smashed violently, either to gain access or as an act of vandalism. If a suspect is apprehended for such an offence then it is almost a routine matter to submit articles of his clothing to a forensic science laboratory so that a scientist may determine whether or not there is evidential material present.\nEvett and Spiehler (1987)\n```\n\nThe study by Evett and Spiehler (1987) is just one example of the many contributions to the field of forensic science that came out of the UK Forensic Science Service before it was closed in 2012. For this project, we use the data from their study, as found in (Dua and Graff, 2019), to investigate suitable classification techniques for determining the origin of a glass fragment.",
   "metadata": {
    "cell_id": "00001-fdb6c19e-a11d-4679-944e-fd5ef55563fb",
    "tags": [],
    "deepnote_cell_type": "markdown"
   }
  },
  {
   "cell_type": "markdown",
   "source": "## Environment Setup\n---\nThis project uses Python libraries that are essential for the performed analysis. Make sure to have the dependencies listed in `requirements.txt` installed locally using the *Python Package Manager* `pip`. If installed, running the next code cell should install all relevant dependencies. Check documentation via the provided links:\n\n- [*NumPy* Quickstart](https://numpy.org/doc/stable/user/quickstart.html)\n- [*Matplotlib* Documentation](https://matplotlib.org/stable/tutorials/introductory/usage.html)\n- [*Pandas* Documentation](https://pandas.pydata.org/docs/)\n- [*Sklearn* Documentation](https://scikit-learn.org/stable/)",
   "metadata": {
    "cell_id": "00000-e216af63-2d3d-472e-b191-f7e7b641052e",
    "deepnote_cell_type": "markdown"
   }
  },
  {
   "cell_type": "markdown",
   "source": "### Libraries",
   "metadata": {
    "cell_id": "00003-b4c91587-23d2-472b-8832-f6b1f8959a69",
    "tags": [],
    "deepnote_cell_type": "markdown"
   }
  },
  {
   "cell_type": "code",
   "metadata": {
    "cell_id": "00003-14aee654-90af-4fe0-bac9-74243ece0430",
    "deepnote_to_be_reexecuted": false,
    "execution_millis": 2664,
    "execution_start": 1637757447696,
    "source_hash": "6b6b1295",
    "tags": [],
    "output_cleared": true,
    "deepnote_cell_type": "code"
   },
   "source": "%%capture\n!pip install -r requirements.txt",
   "outputs": [],
   "execution_count": 1
  },
  {
   "cell_type": "code",
   "metadata": {
    "cell_id": "00001-fee89a0e-b2a2-47b5-9f57-9e9b5bc39684",
    "deepnote_to_be_reexecuted": false,
    "execution_millis": 2609,
    "execution_start": 1637757450371,
    "source_hash": "2eaacbb2",
    "deepnote_output_heights": [
     232.4375
    ],
    "output_cleared": true,
    "deepnote_cell_type": "code"
   },
   "source": "# python standard library\nfrom time import time                                           # used for timing execution\nfrom datetime import date, datetime                             # get current data and time\nimport json                                                     # read/ write json\nimport re                                                       # regex search \nimport os                                                       # os operations\nimport random                                                   # randomness\nfrom collections import Counter                                 # efficient counting\nimport contextlib\n\n# jupyter library\nfrom IPython.display import display, Image, Markdown            # display images and markdown in jupyter\n\n# general data science libraries\nfrom matplotlib import pyplot as plt                            # basic plotting\nimport seaborn as sns                                           # advanced plotting\nimport numpy as np                                              # for representing n-dimensional arrays\nimport scipy as sp                                              # numerical computation\nimport pandas as pd                                             # dataframes\n\n# sklearn imports \nfrom sklearn.preprocessing import StandardScaler\nfrom sklearn.model_selection import GridSearchCV, train_test_split\n\nfrom sklearn.tree import DecisionTreeClassifier\n\n# deep learning framework TODO: pytorch imports here\n\n# custom imports\nfrom scripts.models import DecisionTreeClassifier\nfrom scripts.models import NeuralNetwork\n\nfrom scripts.metrics import *\nfrom scripts.plotting import *",
   "outputs": [],
   "execution_count": 2
  },
  {
   "cell_type": "markdown",
   "source": "### Set global style of plots\n\nBelow you can specify global style for all plots or any other setups related to plots visualization.",
   "metadata": {
    "cell_id": "00006-0c1be16d-01d4-4225-ba7d-a7af691b52d5",
    "deepnote_cell_type": "markdown"
   }
  },
  {
   "cell_type": "code",
   "metadata": {
    "cell_id": "00007-1e56f420-ccbd-4958-82c4-0555d6d3db62",
    "deepnote_to_be_reexecuted": false,
    "source_hash": "7340af17",
    "execution_start": 1637757489170,
    "execution_millis": 1,
    "output_cleared": true,
    "deepnote_cell_type": "code"
   },
   "source": "sns.set_style(\"darkgrid\")\nsns.set(rc={\"xtick.bottom\" : True, \"ytick.left\" : True})",
   "outputs": [],
   "execution_count": 3
  },
  {
   "cell_type": "markdown",
   "source": "### Flags\n\nFlags are used to control the run flow of the notebook when executed at once. This is useful, to prevent operations that should only produce a result once, from running multiple times. ",
   "metadata": {
    "cell_id": "00004-91fbf149-54bb-4103-8781-05f116ed2e73",
    "tags": [],
    "deepnote_cell_type": "markdown"
   }
  },
  {
   "cell_type": "code",
   "metadata": {
    "cell_id": "00004-53bd492d-9bcd-4b38-aa38-b0a5ded0f905",
    "deepnote_to_be_reexecuted": false,
    "execution_millis": 12,
    "execution_start": 1637757490142,
    "source_hash": "8ebe1ed9",
    "tags": [],
    "deepnote_output_heights": [
     21.1875
    ],
    "output_cleared": false,
    "deepnote_cell_type": "code"
   },
   "source": "# section flags\n\n\"\"\"\nLOAD_DATA = True # loads raw data for initial inspection\nPRODUCE_PLOTS = False # global parameter to generate plots\n\nTRAIN_MODELS = False # global parameter to train models\n\"\"\"",
   "outputs": [
    {
     "output_type": "execute_result",
     "execution_count": 4,
     "data": {
      "text/plain": "'\\nLOAD_DATA = True # loads raw data for initial inspection\\nPRODUCE_PLOTS = False # global parameter to generate plots\\n\\nTRAIN_MODELS = False # global parameter to train models\\n'"
     },
     "metadata": {}
    }
   ],
   "execution_count": 4
  },
  {
   "cell_type": "markdown",
   "source": "### Constants\n\n",
   "metadata": {
    "cell_id": "00008-38436e51-9336-4e56-98ee-f9499a210276",
    "tags": [],
    "deepnote_cell_type": "markdown"
   }
  },
  {
   "cell_type": "code",
   "metadata": {
    "cell_id": "00002-22b35ef9-6971-4ab9-a837-1ac0c1f82e62",
    "deepnote_to_be_reexecuted": false,
    "execution_millis": 1,
    "execution_start": 1637757491049,
    "source_hash": "c28ab8e7",
    "output_cleared": true,
    "deepnote_cell_type": "code"
   },
   "source": "PATH_TO = {}\nPATH_TO['data'] = {}\n\nPATH_TO['data']['raw'] = 'data/raw'\nPATH_TO['data']['figures'] = 'data/figures'\nPATH_TO['data']['summaries'] = 'data/summaries'\nPATH_TO['data']['metadata'] = 'data/metadata'\n\nPATH_TO['models'] = {}",
   "outputs": [],
   "execution_count": 5
  },
  {
   "cell_type": "markdown",
   "source": "### Folder Structure\n\nCreate relevant folders to read from and write to, if not yet existent.\nAn easy way to check if all the folders have been created is to use bash, go to the project folder and type \"tree\" it will give you an overview of the lists, check the readme for the folderstructure.",
   "metadata": {
    "cell_id": "00010-3d5d8dac-f82c-4a86-ba1d-5b84a95d7552",
    "tags": [],
    "deepnote_cell_type": "markdown"
   }
  },
  {
   "cell_type": "code",
   "metadata": {
    "cell_id": "00011-08e3a7d1-6b4d-4695-a69d-33f4b46e040e",
    "deepnote_to_be_reexecuted": false,
    "execution_millis": 422,
    "execution_start": 1637757492167,
    "source_hash": "1dd7c435",
    "tags": [],
    "output_cleared": false,
    "deepnote_cell_type": "code"
   },
   "source": "# iterate over path_to dict\nexists = []\nfor subdir in PATH_TO.keys():\n    for path in PATH_TO[subdir].values():\n        if not os.path.exists(path):\n            os.makedirs(path) \n            print(f'created path: {path}')\n        else: \n            exists.append(path)\n\nif len(exists) != 0:\n    print(f'the following paths already existed: {exists}')",
   "outputs": [
    {
     "name": "stdout",
     "text": "the following paths already existed: ['data/raw', 'data/figures', 'data/summaries', 'data/metadata']\n",
     "output_type": "stream"
    }
   ],
   "execution_count": 6
  },
  {
   "cell_type": "markdown",
   "source": "## #01 Loading and Inspecting Raw Data\n---",
   "metadata": {
    "cell_id": "00003-ad4ff0e0-c3b4-4f28-9e82-37ff1be70da7",
    "deepnote_cell_type": "markdown"
   }
  },
  {
   "cell_type": "code",
   "source": "!head -5 data/raw/df_train.csv",
   "metadata": {
    "tags": [],
    "cell_id": "00015-b584fd5a-2fda-4c8b-8c63-7bff3a0061a2",
    "deepnote_to_be_reexecuted": false,
    "source_hash": "b3ffecf7",
    "execution_start": 1637757493806,
    "execution_millis": 297,
    "output_cleared": false,
    "deepnote_cell_type": "code"
   },
   "outputs": [
    {
     "name": "stdout",
     "text": "RI,Na,Mg,Al,Si,K,Ca,Ba,Fe,type\r\n1.51839,12.85,3.67,1.24,72.57,0.62,8.68,0.0,0.35,2\r\n1.52081,13.78,2.28,1.43,71.99,0.49,9.85,0.0,0.17,2\r\n1.51708,13.72,3.68,1.81,72.06,0.64,7.88,0.0,0.0,2\r\n1.52739,11.02,0.0,0.75,73.08,0.0,14.96,0.0,0.0,2\r\n",
     "output_type": "stream"
    }
   ],
   "execution_count": 7
  },
  {
   "cell_type": "code",
   "source": "!head -5 data/raw/df_test.csv",
   "metadata": {
    "tags": [],
    "cell_id": "00016-b4e9a00e-6886-4510-828f-daaa38b4eb68",
    "deepnote_to_be_reexecuted": false,
    "source_hash": "c0dd53bd",
    "execution_start": 1637757494459,
    "execution_millis": 292,
    "output_cleared": false,
    "deepnote_cell_type": "code"
   },
   "outputs": [
    {
     "name": "stdout",
     "text": "RI,Na,Mg,Al,Si,K,Ca,Ba,Fe,type\r\n1.52101,13.64,4.49,1.1,71.78,0.06,8.75,0.0,0.0,1\r\n1.51721,12.87,3.48,1.33,73.04,0.56,8.43,0.0,0.0,1\r\n1.52213,14.21,3.82,0.47,71.77,0.11,9.57,0.0,0.0,1\r\n1.51623,14.2,0.0,2.79,73.46,0.04,9.04,0.4,0.09,7\r\n",
     "output_type": "stream"
    }
   ],
   "execution_count": 8
  },
  {
   "cell_type": "code",
   "source": "features = [\n    'refractive_index',\n    'sodium',\n    'magnesium',\n    'aluminium',\n    'silicone',\n    'potassium',\n    'calcium',\n    'barium',\n    'iron',\n]",
   "metadata": {
    "tags": [],
    "cell_id": "00017-9b8d28eb-1aaa-4b4d-957a-bf6dff13ad9c",
    "deepnote_to_be_reexecuted": false,
    "source_hash": "75d6fe9f",
    "execution_start": 1637757503255,
    "execution_millis": 1,
    "output_cleared": true,
    "deepnote_cell_type": "code"
   },
   "outputs": [],
   "execution_count": 9
  },
  {
   "cell_type": "code",
   "source": "classes = [\n    'window_from_building_(float_processed)',\n    'window_from_building_(non_float_processed)',\n    'window_from_vehicle',\n    'container',\n    'tableware',\n    'headlamp'\n]",
   "metadata": {
    "tags": [],
    "cell_id": "00018-79295ee6-3553-4581-802f-5d19da67c069",
    "deepnote_to_be_reexecuted": false,
    "source_hash": "6fce4e2c",
    "execution_start": 1637757503664,
    "execution_millis": 0,
    "output_cleared": true,
    "deepnote_cell_type": "code"
   },
   "outputs": [],
   "execution_count": 10
  },
  {
   "cell_type": "code",
   "metadata": {
    "cell_id": "00005-b9704f80-1b37-4859-8f1b-fec63d62a33a",
    "deepnote_to_be_reexecuted": false,
    "execution_millis": 6,
    "execution_start": 1637757504653,
    "source_hash": "1d61c747",
    "deepnote_output_heights": [
     606.453125
    ],
    "output_cleared": true,
    "deepnote_cell_type": "code"
   },
   "source": "# loading in train and test data splits \ntrain = np.loadtxt(f\"{PATH_TO['data']['raw']}/df_train.csv\", delimiter=',', skiprows=1)\ntest = np.loadtxt(f\"{PATH_TO['data']['raw']}/df_test.csv\", delimiter=',', skiprows=1)\n\n# split feature matrix from target\nX_train, y_train = train[:, :-1], train[:, -1]\nX_test, y_test = test[:, :-1], test[:, -1]",
   "outputs": [],
   "execution_count": 11
  },
  {
   "cell_type": "markdown",
   "source": "## #02 Exploratory Data Analysis\n---",
   "metadata": {
    "tags": [],
    "cell_id": "00016-58509eb5-8c07-40d8-a0cb-0ba8b83da8b2",
    "deepnote_cell_type": "markdown"
   },
   "outputs": [],
   "execution_count": null
  },
  {
   "cell_type": "code",
   "source": "train_df",
   "metadata": {
    "tags": [],
    "cell_id": "00022-4456d25b-a4f6-4d66-aa7b-016335397768",
    "deepnote_to_be_reexecuted": false,
    "source_hash": "ebb9298b",
    "execution_start": 1637757514536,
    "execution_millis": 1053,
    "output_cleared": false,
    "deepnote_cell_type": "code"
   },
   "outputs": [
    {
     "output_type": "error",
     "ename": "NameError",
     "evalue": "name 'train_df' is not defined",
     "traceback": [
      "\u001b[0;31m---------------------------------------------------------------------------\u001b[0m",
      "\u001b[0;31mNameError\u001b[0m                                 Traceback (most recent call last)",
      "\u001b[0;32m<ipython-input-12-ef797c2b3b5b>\u001b[0m in \u001b[0;36m<module>\u001b[0;34m\u001b[0m\n\u001b[0;32m----> 1\u001b[0;31m \u001b[0mtrain_df\u001b[0m\u001b[0;34m\u001b[0m\u001b[0;34m\u001b[0m\u001b[0m\n\u001b[0m",
      "\u001b[0;31mNameError\u001b[0m: name 'train_df' is not defined"
     ]
    }
   ],
   "execution_count": 12
  },
  {
   "cell_type": "code",
   "source": "train_df = pd.DataFrame(X_train)\n#sns.pairplot(train_df)",
   "metadata": {
    "tags": [],
    "cell_id": "00019-07bb4480-4d09-4580-b7cf-037b08d10791",
    "deepnote_to_be_reexecuted": true,
    "source_hash": "37b00a",
    "execution_start": 1637757108553,
    "execution_millis": 124,
    "deepnote_output_heights": [
     20.65625,
     611
    ],
    "output_cleared": true,
    "deepnote_cell_type": "code"
   },
   "outputs": [],
   "execution_count": null
  },
  {
   "cell_type": "markdown",
   "source": "## 03 Custom Implementations\n---",
   "metadata": {
    "tags": [],
    "cell_id": "00018-274fcacb-327b-47d2-92bc-99c24fb8d237",
    "deepnote_to_be_reexecuted": false,
    "source_hash": "d6be7813",
    "execution_start": 1637756448447,
    "execution_millis": 0,
    "deepnote_cell_type": "markdown"
   },
   "outputs": [],
   "execution_count": 13
  },
  {
   "cell_type": "markdown",
   "source": "## #04 Training and Evaluating Models\n---",
   "metadata": {
    "tags": [],
    "cell_id": "00018-1bb305fc-12ee-40f2-b380-c043b2f38b00",
    "deepnote_cell_type": "markdown"
   },
   "outputs": [],
   "execution_count": null
  },
  {
   "cell_type": "markdown",
   "source": "### Decision Trees\n---",
   "metadata": {
    "tags": [],
    "cell_id": "00019-30670fed-add9-4bcb-b4eb-124282d1ce25",
    "deepnote_cell_type": "markdown"
   },
   "outputs": [],
   "execution_count": null
  },
  {
   "cell_type": "markdown",
   "source": "### Neural Networks\n---",
   "metadata": {
    "tags": [],
    "cell_id": "00020-2f5fc8bb-9185-4c7a-acd7-47084ecb7047",
    "deepnote_cell_type": "markdown"
   },
   "outputs": [],
   "execution_count": null
  },
  {
   "cell_type": "markdown",
   "source": "### Ensemble Classifier\n---",
   "metadata": {
    "tags": [],
    "cell_id": "00021-6a520bc1-1968-44eb-87f2-e9b70e068819",
    "deepnote_cell_type": "markdown"
   },
   "outputs": [],
   "execution_count": null
  },
  {
   "cell_type": "markdown",
   "source": "<a style='text-decoration:none;line-height:16px;display:flex;color:#5B5B62;padding:10px;justify-content:end;' href='https://deepnote.com?utm_source=created-in-deepnote-cell&projectId=300e78d7-19a6-4bf7-a170-13a747371ec7' target=\"_blank\">\n<img alt='Created in deepnote.com' style='display:inline;max-height:16px;margin:0px;margin-right:7.5px;' src='data:image/svg+xml;base64,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' > </img>\nCreated in <span style='font-weight:600;margin-left:4px;'>Deepnote</span></a>",
   "metadata": {
    "tags": [],
    "created_in_deepnote_cell": true,
    "deepnote_cell_type": "markdown"
   }
  }
 ],
 "nbformat": 4,
 "nbformat_minor": 5,
 "metadata": {
  "deepnote": {},
  "deepnote_execution_queue": [],
  "deepnote_notebook_id": "5befc242-845e-4d7f-adb3-0e0bb747a3d1",
  "kernelspec": {
   "display_name": "Python 3 (ipykernel)",
   "language": "python",
   "name": "python3"
  },
  "language_info": {
   "codemirror_mode": {
    "name": "ipython",
    "version": 3
   },
   "file_extension": ".py",
   "mimetype": "text/x-python",
   "name": "python",
   "nbconvert_exporter": "python",
   "pygments_lexer": "ipython3",
   "version": "3.8.11"
  }
 }
}
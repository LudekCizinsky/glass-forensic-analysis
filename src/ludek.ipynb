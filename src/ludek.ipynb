{
 "cells": [
  {
   "cell_type": "markdown",
   "id": "62618ab0",
   "metadata": {
    "cell_id": "00000-bf007d59-829d-470b-97f9-9cf7555e0f34",
    "deepnote_cell_type": "markdown",
    "tags": []
   },
   "source": [
    "# Machine Learning Project \n",
    "#### Forensic Glass Fragment Analysis using Classification \n",
    "---\n",
    "\n",
    "*Ludek Cizinský (luci@itu.dk)*, *Lukas Rasocha (lukr@itu.dk)*, *Mika Senghaas (jsen@itu.dk)*\n",
    "\n",
    "Lecturers: *Therese Graversen*, *Djordje Grbic*, *Payam Zahadat*\n",
    "\n",
    "Deadline: *3rd of January 2022*\n",
    "\n",
    "Last Modified: *24th of Novemeber 2021*"
   ]
  },
  {
   "cell_type": "markdown",
   "id": "2a56a53f",
   "metadata": {
    "cell_id": "00001-fdb6c19e-a11d-4679-944e-fd5ef55563fb",
    "deepnote_cell_type": "markdown",
    "tags": []
   },
   "source": [
    "## Assignment Description\n",
    "---\n",
    "This project explores the possibility of using the elemental composition and refractive index to determine the origin of a very small glass fragment. This was studied by Evett and Spiehler (1987), who wrote in their paper:\n",
    "\n",
    "```\n",
    "Glass is a material which figures prominently in the investigation of crimes such as burglary and criminal damage in which it is common for a window to be smashed violently, either to gain access or as an act of vandalism. If a suspect is apprehended for such an offence then it is almost a routine matter to submit articles of his clothing to a forensic science laboratory so that a scientist may determine whether or not there is evidential material present.\n",
    "Evett and Spiehler (1987)\n",
    "```\n",
    "\n",
    "The study by Evett and Spiehler (1987) is just one example of the many contributions to the field of forensic science that came out of the UK Forensic Science Service before it was closed in 2012. For this project, we use the data from their study, as found in (Dua and Graff, 2019), to investigate suitable classification techniques for determining the origin of a glass fragment."
   ]
  },
  {
   "cell_type": "markdown",
   "id": "2d3cc2aa",
   "metadata": {
    "cell_id": "00000-e216af63-2d3d-472e-b191-f7e7b641052e",
    "deepnote_cell_type": "markdown"
   },
   "source": [
    "## Environment Setup\n",
    "---\n",
    "This project uses Python libraries that are essential for the performed analysis. Make sure to have the dependencies listed in `requirements.txt` installed locally using the *Python Package Manager* `pip`. If installed, running the next code cell should install all relevant dependencies. Check documentation via the provided links:\n",
    "\n",
    "- [*NumPy* Quickstart](https://numpy.org/doc/stable/user/quickstart.html)\n",
    "- [*Matplotlib* Documentation](https://matplotlib.org/stable/tutorials/introductory/usage.html)\n",
    "- [*Pandas* Documentation](https://pandas.pydata.org/docs/)\n",
    "- [*Sklearn* Documentation](https://scikit-learn.org/stable/)"
   ]
  },
  {
   "cell_type": "markdown",
   "id": "e855b6e5",
   "metadata": {
    "cell_id": "00003-b4c91587-23d2-472b-8832-f6b1f8959a69",
    "deepnote_cell_type": "markdown",
    "tags": []
   },
   "source": [
    "### Libraries"
   ]
  },
  {
   "cell_type": "code",
   "execution_count": 1,
   "id": "63712a39",
   "metadata": {
    "cell_id": "00003-14aee654-90af-4fe0-bac9-74243ece0430",
    "deepnote_cell_type": "code",
    "deepnote_to_be_reexecuted": false,
    "execution_millis": 2664,
    "execution_start": 1637757447696,
    "output_cleared": true,
    "source_hash": "6b6b1295",
    "tags": []
   },
   "outputs": [],
   "source": [
    "%%capture\n",
    "!pip install -r requirements.txt"
   ]
  },
  {
   "cell_type": "code",
   "execution_count": 4,
   "id": "6f7ed96c",
   "metadata": {
    "cell_id": "00001-fee89a0e-b2a2-47b5-9f57-9e9b5bc39684",
    "deepnote_cell_type": "code",
    "deepnote_output_heights": [
     232.4375
    ],
    "deepnote_to_be_reexecuted": false,
    "execution_millis": 2609,
    "execution_start": 1637757450371,
    "output_cleared": true,
    "source_hash": "2eaacbb2"
   },
   "outputs": [],
   "source": [
    "# python standard library\n",
    "from time import time                                           # used for timing execution\n",
    "from datetime import date, datetime                             # get current data and time\n",
    "import json                                                     # read/ write json\n",
    "import re                                                       # regex search \n",
    "import os                                                       # os operations\n",
    "import random                                                   # randomness\n",
    "from collections import Counter                                 # efficient counting\n",
    "import contextlib\n",
    "\n",
    "# jupyter library\n",
    "from IPython.display import display, Image, Markdown            # display images and markdown in jupyter\n",
    "\n",
    "# general data science libraries\n",
    "from matplotlib import pyplot as plt                            # basic plotting\n",
    "import seaborn as sns                                           # advanced plotting\n",
    "import numpy as np                                              # for representing n-dimensional arrays\n",
    "import scipy as sp                                              # numerical computation\n",
    "import pandas as pd                                             # dataframes\n",
    "\n",
    "# sklearn imports \n",
    "from sklearn.preprocessing import StandardScaler\n",
    "from sklearn.model_selection import GridSearchCV, train_test_split\n",
    "\n",
    "from sklearn.tree import DecisionTreeClassifier\n",
    "\n",
    "# deep learning framework TODO: pytorch imports here\n",
    "\n",
    "# custom imports\n",
    "from scripts.models import DecisionTreeClassifier\n",
    "from scripts.models import NeuralNetwork\n",
    "\n",
    "from scripts.metrics import *\n",
    "from scripts.plotting import *"
   ]
  },
  {
   "cell_type": "markdown",
   "id": "9e1f203e",
   "metadata": {
    "cell_id": "00006-0c1be16d-01d4-4225-ba7d-a7af691b52d5",
    "deepnote_cell_type": "markdown"
   },
   "source": [
    "### Set global style of plots\n",
    "\n",
    "Below you can specify global style for all plots or any other setups related to plots visualization."
   ]
  },
  {
   "cell_type": "code",
   "execution_count": 5,
   "id": "170b6bb4",
   "metadata": {
    "cell_id": "00007-1e56f420-ccbd-4958-82c4-0555d6d3db62",
    "deepnote_cell_type": "code",
    "deepnote_to_be_reexecuted": false,
    "execution_millis": 1,
    "execution_start": 1637757489170,
    "output_cleared": true,
    "source_hash": "7340af17"
   },
   "outputs": [],
   "source": [
    "sns.set_style(\"darkgrid\")\n",
    "sns.set(rc={\"xtick.bottom\" : True, \"ytick.left\" : True})"
   ]
  },
  {
   "cell_type": "markdown",
   "id": "10f8b316",
   "metadata": {
    "cell_id": "00004-91fbf149-54bb-4103-8781-05f116ed2e73",
    "deepnote_cell_type": "markdown",
    "tags": []
   },
   "source": [
    "### Flags\n",
    "\n",
    "Flags are used to control the run flow of the notebook when executed at once. This is useful, to prevent operations that should only produce a result once, from running multiple times. "
   ]
  },
  {
   "cell_type": "code",
   "execution_count": 6,
   "id": "da679a73",
   "metadata": {
    "cell_id": "00004-53bd492d-9bcd-4b38-aa38-b0a5ded0f905",
    "deepnote_cell_type": "code",
    "deepnote_output_heights": [
     21.1875
    ],
    "deepnote_to_be_reexecuted": false,
    "execution_millis": 12,
    "execution_start": 1637757490142,
    "output_cleared": false,
    "source_hash": "8ebe1ed9",
    "tags": []
   },
   "outputs": [
    {
     "data": {
      "text/plain": [
       "'\\nLOAD_DATA = True # loads raw data for initial inspection\\nPRODUCE_PLOTS = False # global parameter to generate plots\\n\\nTRAIN_MODELS = False # global parameter to train models\\n'"
      ]
     },
     "execution_count": 6,
     "metadata": {},
     "output_type": "execute_result"
    }
   ],
   "source": [
    "# section flags\n",
    "\n",
    "\"\"\"\n",
    "LOAD_DATA = True # loads raw data for initial inspection\n",
    "PRODUCE_PLOTS = False # global parameter to generate plots\n",
    "\n",
    "TRAIN_MODELS = False # global parameter to train models\n",
    "\"\"\""
   ]
  },
  {
   "cell_type": "markdown",
   "id": "8e98cf06",
   "metadata": {
    "cell_id": "00008-38436e51-9336-4e56-98ee-f9499a210276",
    "deepnote_cell_type": "markdown",
    "tags": []
   },
   "source": [
    "### Constants\n",
    "\n"
   ]
  },
  {
   "cell_type": "code",
   "execution_count": 7,
   "id": "7f71fedc",
   "metadata": {
    "cell_id": "00002-22b35ef9-6971-4ab9-a837-1ac0c1f82e62",
    "deepnote_cell_type": "code",
    "deepnote_to_be_reexecuted": false,
    "execution_millis": 1,
    "execution_start": 1637757491049,
    "output_cleared": true,
    "source_hash": "c28ab8e7"
   },
   "outputs": [],
   "source": [
    "PATH_TO = {}\n",
    "PATH_TO['data'] = {}\n",
    "\n",
    "PATH_TO['data']['raw'] = 'data/raw'\n",
    "PATH_TO['data']['figures'] = 'data/figures'\n",
    "PATH_TO['data']['summaries'] = 'data/summaries'\n",
    "PATH_TO['data']['metadata'] = 'data/metadata'\n",
    "\n",
    "PATH_TO['models'] = {}"
   ]
  },
  {
   "cell_type": "markdown",
   "id": "20e345a7",
   "metadata": {
    "cell_id": "00010-3d5d8dac-f82c-4a86-ba1d-5b84a95d7552",
    "deepnote_cell_type": "markdown",
    "tags": []
   },
   "source": [
    "### Folder Structure\n",
    "\n",
    "Create relevant folders to read from and write to, if not yet existent.\n",
    "An easy way to check if all the folders have been created is to use bash, go to the project folder and type \"tree\" it will give you an overview of the lists, check the readme for the folderstructure."
   ]
  },
  {
   "cell_type": "code",
   "execution_count": 8,
   "id": "b2be5f7c",
   "metadata": {
    "cell_id": "00011-08e3a7d1-6b4d-4695-a69d-33f4b46e040e",
    "deepnote_cell_type": "code",
    "deepnote_to_be_reexecuted": false,
    "execution_millis": 422,
    "execution_start": 1637757492167,
    "output_cleared": false,
    "source_hash": "1dd7c435",
    "tags": []
   },
   "outputs": [
    {
     "name": "stdout",
     "output_type": "stream",
     "text": [
      "created path: data/figures\n",
      "created path: data/summaries\n",
      "created path: data/metadata\n",
      "the following paths already existed: ['data/raw']\n"
     ]
    }
   ],
   "source": [
    "# iterate over path_to dict\n",
    "exists = []\n",
    "for subdir in PATH_TO.keys():\n",
    "    for path in PATH_TO[subdir].values():\n",
    "        if not os.path.exists(path):\n",
    "            os.makedirs(path) \n",
    "            print(f'created path: {path}')\n",
    "        else: \n",
    "            exists.append(path)\n",
    "\n",
    "if len(exists) != 0:\n",
    "    print(f'the following paths already existed: {exists}')"
   ]
  },
  {
   "cell_type": "markdown",
   "id": "1885b93d",
   "metadata": {
    "cell_id": "00003-ad4ff0e0-c3b4-4f28-9e82-37ff1be70da7",
    "deepnote_cell_type": "markdown"
   },
   "source": [
    "## #01 Data preprocessing and cleaning\n",
    "---"
   ]
  },
  {
   "cell_type": "code",
   "execution_count": 9,
   "id": "e10ce830",
   "metadata": {
    "cell_id": "00015-b584fd5a-2fda-4c8b-8c63-7bff3a0061a2",
    "deepnote_cell_type": "code",
    "deepnote_to_be_reexecuted": false,
    "execution_millis": 297,
    "execution_start": 1637757493806,
    "output_cleared": false,
    "source_hash": "b3ffecf7",
    "tags": []
   },
   "outputs": [
    {
     "name": "stdout",
     "output_type": "stream",
     "text": [
      "RI,Na,Mg,Al,Si,K,Ca,Ba,Fe,type\r\n",
      "1.51839,12.85,3.67,1.24,72.57,0.62,8.68,0.0,0.35,2\r\n",
      "1.52081,13.78,2.28,1.43,71.99,0.49,9.85,0.0,0.17,2\r\n",
      "1.51708,13.72,3.68,1.81,72.06,0.64,7.88,0.0,0.0,2\r\n",
      "1.52739,11.02,0.0,0.75,73.08,0.0,14.96,0.0,0.0,2\r\n"
     ]
    }
   ],
   "source": [
    "!head -5 data/raw/df_train.csv"
   ]
  },
  {
   "cell_type": "code",
   "execution_count": 10,
   "id": "00054f63",
   "metadata": {
    "cell_id": "00016-b4e9a00e-6886-4510-828f-daaa38b4eb68",
    "deepnote_cell_type": "code",
    "deepnote_to_be_reexecuted": false,
    "execution_millis": 292,
    "execution_start": 1637757494459,
    "output_cleared": false,
    "source_hash": "c0dd53bd",
    "tags": []
   },
   "outputs": [
    {
     "name": "stdout",
     "output_type": "stream",
     "text": [
      "RI,Na,Mg,Al,Si,K,Ca,Ba,Fe,type\r\n",
      "1.52101,13.64,4.49,1.1,71.78,0.06,8.75,0.0,0.0,1\r\n",
      "1.51721,12.87,3.48,1.33,73.04,0.56,8.43,0.0,0.0,1\r\n",
      "1.52213,14.21,3.82,0.47,71.77,0.11,9.57,0.0,0.0,1\r\n",
      "1.51623,14.2,0.0,2.79,73.46,0.04,9.04,0.4,0.09,7\r\n"
     ]
    }
   ],
   "source": [
    "!head -5 data/raw/df_test.csv"
   ]
  },
  {
   "cell_type": "code",
   "execution_count": 11,
   "id": "3f774999",
   "metadata": {
    "cell_id": "00017-9b8d28eb-1aaa-4b4d-957a-bf6dff13ad9c",
    "deepnote_cell_type": "code",
    "deepnote_to_be_reexecuted": false,
    "execution_millis": 1,
    "execution_start": 1637757503255,
    "output_cleared": true,
    "source_hash": "75d6fe9f",
    "tags": []
   },
   "outputs": [],
   "source": [
    "features = [\n",
    "    'refractive_index',\n",
    "    'sodium',\n",
    "    'magnesium',\n",
    "    'aluminium',\n",
    "    'silicone',\n",
    "    'potassium',\n",
    "    'calcium',\n",
    "    'barium',\n",
    "    'iron',\n",
    "]"
   ]
  },
  {
   "cell_type": "code",
   "execution_count": 12,
   "id": "532eb411",
   "metadata": {
    "cell_id": "00018-79295ee6-3553-4581-802f-5d19da67c069",
    "deepnote_cell_type": "code",
    "deepnote_to_be_reexecuted": false,
    "execution_millis": 0,
    "execution_start": 1637757503664,
    "output_cleared": true,
    "source_hash": "6fce4e2c",
    "tags": []
   },
   "outputs": [],
   "source": [
    "classes = [\n",
    "    'window_from_building_(float_processed)',\n",
    "    'window_from_building_(non_float_processed)',\n",
    "    'window_from_vehicle',\n",
    "    'container',\n",
    "    'tableware',\n",
    "    'headlamp'\n",
    "]"
   ]
  },
  {
   "cell_type": "code",
   "execution_count": 13,
   "id": "eae41285",
   "metadata": {
    "cell_id": "00005-b9704f80-1b37-4859-8f1b-fec63d62a33a",
    "deepnote_cell_type": "code",
    "deepnote_output_heights": [
     606.453125
    ],
    "deepnote_to_be_reexecuted": false,
    "execution_millis": 6,
    "execution_start": 1637757504653,
    "output_cleared": true,
    "source_hash": "1d61c747"
   },
   "outputs": [],
   "source": [
    "# loading in train and test data splits \n",
    "train = np.loadtxt(f\"{PATH_TO['data']['raw']}/df_train.csv\", delimiter=',', skiprows=1)\n",
    "test = np.loadtxt(f\"{PATH_TO['data']['raw']}/df_test.csv\", delimiter=',', skiprows=1)\n",
    "\n",
    "# split feature matrix from target\n",
    "X_train, y_train = train[:, :-1], train[:, -1]\n",
    "X_test, y_test = test[:, :-1], test[:, -1]"
   ]
  },
  {
   "cell_type": "code",
   "execution_count": 58,
   "id": "b0c61f96",
   "metadata": {},
   "outputs": [
    {
     "data": {
      "text/plain": [
       "array([[1.52101e+00, 1.36400e+01, 4.49000e+00, 1.10000e+00, 7.17800e+01,\n",
       "        6.00000e-02, 8.75000e+00, 0.00000e+00, 0.00000e+00],\n",
       "       [1.51721e+00, 1.28700e+01, 3.48000e+00, 1.33000e+00, 7.30400e+01,\n",
       "        5.60000e-01, 8.43000e+00, 0.00000e+00, 0.00000e+00],\n",
       "       [1.52213e+00, 1.42100e+01, 3.82000e+00, 4.70000e-01, 7.17700e+01,\n",
       "        1.10000e-01, 9.57000e+00, 0.00000e+00, 0.00000e+00],\n",
       "       [1.51623e+00, 1.42000e+01, 0.00000e+00, 2.79000e+00, 7.34600e+01,\n",
       "        4.00000e-02, 9.04000e+00, 4.00000e-01, 9.00000e-02],\n",
       "       [1.51829e+00, 1.44600e+01, 2.24000e+00, 1.62000e+00, 7.23800e+01,\n",
       "        0.00000e+00, 9.26000e+00, 0.00000e+00, 0.00000e+00],\n",
       "       [1.51602e+00, 1.48500e+01, 0.00000e+00, 2.38000e+00, 7.32800e+01,\n",
       "        0.00000e+00, 8.76000e+00, 6.40000e-01, 9.00000e-02],\n",
       "       [1.51610e+00, 1.34200e+01, 3.40000e+00, 1.22000e+00, 7.26900e+01,\n",
       "        5.90000e-01, 8.32000e+00, 0.00000e+00, 0.00000e+00],\n",
       "       [1.51763e+00, 1.26100e+01, 3.59000e+00, 1.31000e+00, 7.32900e+01,\n",
       "        5.80000e-01, 8.50000e+00, 0.00000e+00, 0.00000e+00],\n",
       "       [1.51594e+00, 1.30900e+01, 3.52000e+00, 1.55000e+00, 7.28700e+01,\n",
       "        6.80000e-01, 8.05000e+00, 0.00000e+00, 9.00000e-02],\n",
       "       [1.51911e+00, 1.39000e+01, 3.73000e+00, 1.18000e+00, 7.21200e+01,\n",
       "        6.00000e-02, 8.89000e+00, 0.00000e+00, 0.00000e+00],\n",
       "       [1.51709e+00, 1.30000e+01, 3.47000e+00, 1.79000e+00, 7.27200e+01,\n",
       "        6.60000e-01, 8.18000e+00, 0.00000e+00, 0.00000e+00],\n",
       "       [1.51909e+00, 1.38900e+01, 3.53000e+00, 1.32000e+00, 7.18100e+01,\n",
       "        5.10000e-01, 8.78000e+00, 1.10000e-01, 0.00000e+00],\n",
       "       [1.51847e+00, 1.31000e+01, 3.97000e+00, 1.19000e+00, 7.24400e+01,\n",
       "        6.00000e-01, 8.43000e+00, 0.00000e+00, 0.00000e+00],\n",
       "       [1.52725e+00, 1.38000e+01, 3.15000e+00, 6.60000e-01, 7.05700e+01,\n",
       "        8.00000e-02, 1.16400e+01, 0.00000e+00, 0.00000e+00],\n",
       "       [1.52152e+00, 1.30500e+01, 3.65000e+00, 8.70000e-01, 7.23200e+01,\n",
       "        1.90000e-01, 9.85000e+00, 0.00000e+00, 1.70000e-01],\n",
       "       [1.51905e+00, 1.36000e+01, 3.62000e+00, 1.11000e+00, 7.26400e+01,\n",
       "        1.40000e-01, 8.76000e+00, 0.00000e+00, 0.00000e+00],\n",
       "       [1.52065e+00, 1.43600e+01, 0.00000e+00, 2.02000e+00, 7.34200e+01,\n",
       "        0.00000e+00, 8.44000e+00, 1.64000e+00, 0.00000e+00],\n",
       "       [1.51596e+00, 1.30200e+01, 3.56000e+00, 1.54000e+00, 7.31100e+01,\n",
       "        7.20000e-01, 7.90000e+00, 0.00000e+00, 0.00000e+00],\n",
       "       [1.51789e+00, 1.31900e+01, 3.90000e+00, 1.30000e+00, 7.23300e+01,\n",
       "        5.50000e-01, 8.44000e+00, 0.00000e+00, 2.80000e-01],\n",
       "       [1.51685e+00, 1.49200e+01, 0.00000e+00, 1.99000e+00, 7.30600e+01,\n",
       "        0.00000e+00, 8.40000e+00, 1.59000e+00, 0.00000e+00],\n",
       "       [1.51321e+00, 1.30000e+01, 0.00000e+00, 3.02000e+00, 7.07000e+01,\n",
       "        6.21000e+00, 6.93000e+00, 0.00000e+00, 0.00000e+00],\n",
       "       [1.51508e+00, 1.51500e+01, 0.00000e+00, 2.25000e+00, 7.35000e+01,\n",
       "        0.00000e+00, 8.34000e+00, 6.30000e-01, 0.00000e+00],\n",
       "       [1.51776e+00, 1.35300e+01, 3.41000e+00, 1.52000e+00, 7.20400e+01,\n",
       "        5.80000e-01, 8.79000e+00, 0.00000e+00, 0.00000e+00],\n",
       "       [1.51655e+00, 1.27500e+01, 2.85000e+00, 1.44000e+00, 7.32700e+01,\n",
       "        5.70000e-01, 8.79000e+00, 1.10000e-01, 2.20000e-01],\n",
       "       [1.51832e+00, 1.33300e+01, 3.34000e+00, 1.54000e+00, 7.21400e+01,\n",
       "        5.60000e-01, 8.99000e+00, 0.00000e+00, 0.00000e+00],\n",
       "       [1.52177e+00, 1.37500e+01, 1.01000e+00, 1.36000e+00, 7.21900e+01,\n",
       "        3.30000e-01, 1.11400e+01, 0.00000e+00, 0.00000e+00],\n",
       "       [1.51937e+00, 1.37900e+01, 2.41000e+00, 1.19000e+00, 7.27600e+01,\n",
       "        0.00000e+00, 9.77000e+00, 0.00000e+00, 0.00000e+00],\n",
       "       [1.51646e+00, 1.34100e+01, 3.55000e+00, 1.25000e+00, 7.28100e+01,\n",
       "        6.80000e-01, 8.10000e+00, 0.00000e+00, 0.00000e+00],\n",
       "       [1.51898e+00, 1.35800e+01, 3.35000e+00, 1.23000e+00, 7.20800e+01,\n",
       "        5.90000e-01, 8.91000e+00, 0.00000e+00, 0.00000e+00],\n",
       "       [1.52614e+00, 1.37000e+01, 0.00000e+00, 1.36000e+00, 7.12400e+01,\n",
       "        1.90000e-01, 1.34400e+01, 0.00000e+00, 1.00000e-01],\n",
       "       [1.52475e+00, 1.14500e+01, 0.00000e+00, 1.88000e+00, 7.21900e+01,\n",
       "        8.10000e-01, 1.32400e+01, 0.00000e+00, 3.40000e-01],\n",
       "       [1.51736e+00, 1.27800e+01, 3.62000e+00, 1.29000e+00, 7.27900e+01,\n",
       "        5.90000e-01, 8.70000e+00, 0.00000e+00, 0.00000e+00],\n",
       "       [1.52121e+00, 1.40300e+01, 3.76000e+00, 5.80000e-01, 7.17900e+01,\n",
       "        1.10000e-01, 9.65000e+00, 0.00000e+00, 0.00000e+00],\n",
       "       [1.51567e+00, 1.32900e+01, 3.45000e+00, 1.21000e+00, 7.27400e+01,\n",
       "        5.60000e-01, 8.57000e+00, 0.00000e+00, 0.00000e+00],\n",
       "       [1.51613e+00, 1.38800e+01, 1.78000e+00, 1.79000e+00, 7.31000e+01,\n",
       "        0.00000e+00, 8.67000e+00, 7.60000e-01, 0.00000e+00],\n",
       "       [1.51763e+00, 1.28000e+01, 3.66000e+00, 1.27000e+00, 7.30100e+01,\n",
       "        6.00000e-01, 8.56000e+00, 0.00000e+00, 0.00000e+00],\n",
       "       [1.52058e+00, 1.28500e+01, 1.61000e+00, 2.17000e+00, 7.21800e+01,\n",
       "        7.60000e-01, 9.70000e+00, 2.40000e-01, 5.10000e-01],\n",
       "       [1.51653e+00, 1.19500e+01, 0.00000e+00, 1.19000e+00, 7.51800e+01,\n",
       "        2.70000e+00, 8.93000e+00, 0.00000e+00, 0.00000e+00],\n",
       "       [1.51753e+00, 1.25700e+01, 3.47000e+00, 1.38000e+00, 7.33900e+01,\n",
       "        6.00000e-01, 8.55000e+00, 0.00000e+00, 6.00000e-02],\n",
       "       [1.51629e+00, 1.27100e+01, 3.33000e+00, 1.49000e+00, 7.32800e+01,\n",
       "        6.70000e-01, 8.24000e+00, 0.00000e+00, 0.00000e+00],\n",
       "       [1.52227e+00, 1.41700e+01, 3.81000e+00, 7.80000e-01, 7.13500e+01,\n",
       "        0.00000e+00, 9.69000e+00, 0.00000e+00, 0.00000e+00],\n",
       "       [1.51797e+00, 1.27400e+01, 3.48000e+00, 1.35000e+00, 7.29600e+01,\n",
       "        6.40000e-01, 8.68000e+00, 0.00000e+00, 0.00000e+00],\n",
       "       [1.51617e+00, 1.49500e+01, 0.00000e+00, 2.27000e+00, 7.33000e+01,\n",
       "        0.00000e+00, 8.71000e+00, 6.70000e-01, 0.00000e+00],\n",
       "       [1.51768e+00, 1.25600e+01, 3.52000e+00, 1.43000e+00, 7.31500e+01,\n",
       "        5.70000e-01, 8.54000e+00, 0.00000e+00, 0.00000e+00],\n",
       "       [1.51994e+00, 1.32700e+01, 0.00000e+00, 1.76000e+00, 7.30300e+01,\n",
       "        4.70000e-01, 1.13200e+01, 0.00000e+00, 0.00000e+00],\n",
       "       [1.51640e+00, 1.25500e+01, 3.48000e+00, 1.87000e+00, 7.32300e+01,\n",
       "        6.30000e-01, 8.08000e+00, 0.00000e+00, 9.00000e-02],\n",
       "       [1.51969e+00, 1.26400e+01, 0.00000e+00, 1.65000e+00, 7.37500e+01,\n",
       "        3.80000e-01, 1.15300e+01, 0.00000e+00, 0.00000e+00],\n",
       "       [1.51625e+00, 1.33600e+01, 3.58000e+00, 1.49000e+00, 7.27200e+01,\n",
       "        4.50000e-01, 8.21000e+00, 0.00000e+00, 0.00000e+00],\n",
       "       [1.51852e+00, 1.40900e+01, 2.19000e+00, 1.66000e+00, 7.26700e+01,\n",
       "        0.00000e+00, 9.32000e+00, 0.00000e+00, 0.00000e+00],\n",
       "       [1.51569e+00, 1.32400e+01, 3.49000e+00, 1.47000e+00, 7.32500e+01,\n",
       "        3.80000e-01, 8.03000e+00, 0.00000e+00, 0.00000e+00],\n",
       "       [1.52020e+00, 1.39800e+01, 1.35000e+00, 1.63000e+00, 7.17600e+01,\n",
       "        3.90000e-01, 1.05600e+01, 0.00000e+00, 1.80000e-01],\n",
       "       [1.51743e+00, 1.33000e+01, 3.60000e+00, 1.14000e+00, 7.30900e+01,\n",
       "        5.80000e-01, 8.17000e+00, 0.00000e+00, 0.00000e+00],\n",
       "       [1.51605e+00, 1.29000e+01, 3.44000e+00, 1.45000e+00, 7.30600e+01,\n",
       "        4.40000e-01, 8.27000e+00, 0.00000e+00, 0.00000e+00],\n",
       "       [1.51869e+00, 1.31900e+01, 3.37000e+00, 1.18000e+00, 7.27200e+01,\n",
       "        5.70000e-01, 8.83000e+00, 0.00000e+00, 1.60000e-01],\n",
       "       [1.51590e+00, 1.30200e+01, 3.58000e+00, 1.51000e+00, 7.31200e+01,\n",
       "        6.90000e-01, 7.96000e+00, 0.00000e+00, 0.00000e+00],\n",
       "       [1.51818e+00, 1.37200e+01, 0.00000e+00, 5.60000e-01, 7.44500e+01,\n",
       "        0.00000e+00, 1.09900e+01, 0.00000e+00, 0.00000e+00],\n",
       "       [1.51593e+00, 1.30900e+01, 3.59000e+00, 1.52000e+00, 7.31000e+01,\n",
       "        6.70000e-01, 7.83000e+00, 0.00000e+00, 0.00000e+00],\n",
       "       [1.51775e+00, 1.28500e+01, 3.48000e+00, 1.23000e+00, 7.29700e+01,\n",
       "        6.10000e-01, 8.56000e+00, 9.00000e-02, 2.20000e-01],\n",
       "       [1.51754e+00, 1.33900e+01, 3.66000e+00, 1.19000e+00, 7.27900e+01,\n",
       "        5.70000e-01, 8.27000e+00, 0.00000e+00, 1.10000e-01],\n",
       "       [1.51556e+00, 1.38700e+01, 0.00000e+00, 2.54000e+00, 7.32300e+01,\n",
       "        1.40000e-01, 9.41000e+00, 8.10000e-01, 1.00000e-02],\n",
       "       [1.52152e+00, 1.31200e+01, 3.58000e+00, 9.00000e-01, 7.22000e+01,\n",
       "        2.30000e-01, 9.82000e+00, 0.00000e+00, 1.60000e-01],\n",
       "       [1.51892e+00, 1.34600e+01, 3.83000e+00, 1.26000e+00, 7.25500e+01,\n",
       "        5.70000e-01, 8.21000e+00, 0.00000e+00, 1.40000e-01],\n",
       "       [1.51610e+00, 1.33300e+01, 3.53000e+00, 1.34000e+00, 7.26700e+01,\n",
       "        5.60000e-01, 8.33000e+00, 0.00000e+00, 0.00000e+00],\n",
       "       [1.51730e+00, 1.23500e+01, 2.72000e+00, 1.63000e+00, 7.28700e+01,\n",
       "        7.00000e-01, 9.23000e+00, 0.00000e+00, 0.00000e+00],\n",
       "       [1.51618e+00, 1.30100e+01, 3.50000e+00, 1.48000e+00, 7.28900e+01,\n",
       "        6.00000e-01, 8.12000e+00, 0.00000e+00, 0.00000e+00]])"
      ]
     },
     "execution_count": 58,
     "metadata": {},
     "output_type": "execute_result"
    }
   ],
   "source": [
    "X_test"
   ]
  },
  {
   "cell_type": "markdown",
   "id": "0d721a55",
   "metadata": {
    "cell_id": "00016-58509eb5-8c07-40d8-a0cb-0ba8b83da8b2",
    "deepnote_cell_type": "markdown",
    "tags": []
   },
   "source": [
    "## #02 Exploratory Data Analysis\n",
    "---\n",
    "\n",
    "### Define input data for analysis"
   ]
  },
  {
   "cell_type": "code",
   "execution_count": 27,
   "id": "62bef58a",
   "metadata": {
    "cell_id": "00019-07bb4480-4d09-4580-b7cf-037b08d10791",
    "deepnote_cell_type": "code",
    "deepnote_output_heights": [
     20.65625,
     611
    ],
    "deepnote_to_be_reexecuted": true,
    "execution_millis": 124,
    "execution_start": 1637757108553,
    "output_cleared": true,
    "source_hash": "37b00a",
    "tags": []
   },
   "outputs": [
    {
     "data": {
      "text/html": [
       "<div>\n",
       "<style scoped>\n",
       "    .dataframe tbody tr th:only-of-type {\n",
       "        vertical-align: middle;\n",
       "    }\n",
       "\n",
       "    .dataframe tbody tr th {\n",
       "        vertical-align: top;\n",
       "    }\n",
       "\n",
       "    .dataframe thead th {\n",
       "        text-align: right;\n",
       "    }\n",
       "</style>\n",
       "<table border=\"1\" class=\"dataframe\">\n",
       "  <thead>\n",
       "    <tr style=\"text-align: right;\">\n",
       "      <th></th>\n",
       "      <th>RI</th>\n",
       "      <th>Na</th>\n",
       "      <th>Mg</th>\n",
       "      <th>Al</th>\n",
       "      <th>Si</th>\n",
       "      <th>K</th>\n",
       "      <th>Ca</th>\n",
       "      <th>Ba</th>\n",
       "      <th>Fe</th>\n",
       "    </tr>\n",
       "  </thead>\n",
       "  <tbody>\n",
       "    <tr>\n",
       "      <th>0</th>\n",
       "      <td>1.51839</td>\n",
       "      <td>12.85</td>\n",
       "      <td>3.67</td>\n",
       "      <td>1.24</td>\n",
       "      <td>72.57</td>\n",
       "      <td>0.62</td>\n",
       "      <td>8.68</td>\n",
       "      <td>0.0</td>\n",
       "      <td>0.35</td>\n",
       "    </tr>\n",
       "    <tr>\n",
       "      <th>1</th>\n",
       "      <td>1.52081</td>\n",
       "      <td>13.78</td>\n",
       "      <td>2.28</td>\n",
       "      <td>1.43</td>\n",
       "      <td>71.99</td>\n",
       "      <td>0.49</td>\n",
       "      <td>9.85</td>\n",
       "      <td>0.0</td>\n",
       "      <td>0.17</td>\n",
       "    </tr>\n",
       "    <tr>\n",
       "      <th>2</th>\n",
       "      <td>1.51708</td>\n",
       "      <td>13.72</td>\n",
       "      <td>3.68</td>\n",
       "      <td>1.81</td>\n",
       "      <td>72.06</td>\n",
       "      <td>0.64</td>\n",
       "      <td>7.88</td>\n",
       "      <td>0.0</td>\n",
       "      <td>0.00</td>\n",
       "    </tr>\n",
       "    <tr>\n",
       "      <th>3</th>\n",
       "      <td>1.52739</td>\n",
       "      <td>11.02</td>\n",
       "      <td>0.00</td>\n",
       "      <td>0.75</td>\n",
       "      <td>73.08</td>\n",
       "      <td>0.00</td>\n",
       "      <td>14.96</td>\n",
       "      <td>0.0</td>\n",
       "      <td>0.00</td>\n",
       "    </tr>\n",
       "    <tr>\n",
       "      <th>4</th>\n",
       "      <td>1.52210</td>\n",
       "      <td>13.73</td>\n",
       "      <td>3.84</td>\n",
       "      <td>0.72</td>\n",
       "      <td>71.76</td>\n",
       "      <td>0.17</td>\n",
       "      <td>9.74</td>\n",
       "      <td>0.0</td>\n",
       "      <td>0.00</td>\n",
       "    </tr>\n",
       "  </tbody>\n",
       "</table>\n",
       "</div>"
      ],
      "text/plain": [
       "        RI     Na    Mg    Al     Si     K     Ca   Ba    Fe\n",
       "0  1.51839  12.85  3.67  1.24  72.57  0.62   8.68  0.0  0.35\n",
       "1  1.52081  13.78  2.28  1.43  71.99  0.49   9.85  0.0  0.17\n",
       "2  1.51708  13.72  3.68  1.81  72.06  0.64   7.88  0.0  0.00\n",
       "3  1.52739  11.02  0.00  0.75  73.08  0.00  14.96  0.0  0.00\n",
       "4  1.52210  13.73  3.84  0.72  71.76  0.17   9.74  0.0  0.00"
      ]
     },
     "execution_count": 27,
     "metadata": {},
     "output_type": "execute_result"
    }
   ],
   "source": [
    "df = pd.read_csv(f\"{PATH_TO['data']['raw']}/df_train.csv\", usecols=range(9))\n",
    "df.head()"
   ]
  },
  {
   "cell_type": "code",
   "execution_count": 45,
   "id": "99057b27",
   "metadata": {},
   "outputs": [
    {
     "data": {
      "text/html": [
       "<div>\n",
       "<style scoped>\n",
       "    .dataframe tbody tr th:only-of-type {\n",
       "        vertical-align: middle;\n",
       "    }\n",
       "\n",
       "    .dataframe tbody tr th {\n",
       "        vertical-align: top;\n",
       "    }\n",
       "\n",
       "    .dataframe thead th {\n",
       "        text-align: right;\n",
       "    }\n",
       "</style>\n",
       "<table border=\"1\" class=\"dataframe\">\n",
       "  <thead>\n",
       "    <tr style=\"text-align: right;\">\n",
       "      <th></th>\n",
       "      <th>RI</th>\n",
       "      <th>Na</th>\n",
       "      <th>Mg</th>\n",
       "      <th>Al</th>\n",
       "      <th>Si</th>\n",
       "      <th>K</th>\n",
       "      <th>Ca</th>\n",
       "      <th>Ba</th>\n",
       "      <th>Fe</th>\n",
       "      <th>type</th>\n",
       "    </tr>\n",
       "  </thead>\n",
       "  <tbody>\n",
       "    <tr>\n",
       "      <th>0</th>\n",
       "      <td>1.51839</td>\n",
       "      <td>12.85</td>\n",
       "      <td>3.67</td>\n",
       "      <td>1.24</td>\n",
       "      <td>72.57</td>\n",
       "      <td>0.62</td>\n",
       "      <td>8.68</td>\n",
       "      <td>0.0</td>\n",
       "      <td>0.35</td>\n",
       "      <td>2</td>\n",
       "    </tr>\n",
       "    <tr>\n",
       "      <th>1</th>\n",
       "      <td>1.52081</td>\n",
       "      <td>13.78</td>\n",
       "      <td>2.28</td>\n",
       "      <td>1.43</td>\n",
       "      <td>71.99</td>\n",
       "      <td>0.49</td>\n",
       "      <td>9.85</td>\n",
       "      <td>0.0</td>\n",
       "      <td>0.17</td>\n",
       "      <td>2</td>\n",
       "    </tr>\n",
       "    <tr>\n",
       "      <th>2</th>\n",
       "      <td>1.51708</td>\n",
       "      <td>13.72</td>\n",
       "      <td>3.68</td>\n",
       "      <td>1.81</td>\n",
       "      <td>72.06</td>\n",
       "      <td>0.64</td>\n",
       "      <td>7.88</td>\n",
       "      <td>0.0</td>\n",
       "      <td>0.00</td>\n",
       "      <td>2</td>\n",
       "    </tr>\n",
       "    <tr>\n",
       "      <th>3</th>\n",
       "      <td>1.52739</td>\n",
       "      <td>11.02</td>\n",
       "      <td>0.00</td>\n",
       "      <td>0.75</td>\n",
       "      <td>73.08</td>\n",
       "      <td>0.00</td>\n",
       "      <td>14.96</td>\n",
       "      <td>0.0</td>\n",
       "      <td>0.00</td>\n",
       "      <td>2</td>\n",
       "    </tr>\n",
       "    <tr>\n",
       "      <th>4</th>\n",
       "      <td>1.52210</td>\n",
       "      <td>13.73</td>\n",
       "      <td>3.84</td>\n",
       "      <td>0.72</td>\n",
       "      <td>71.76</td>\n",
       "      <td>0.17</td>\n",
       "      <td>9.74</td>\n",
       "      <td>0.0</td>\n",
       "      <td>0.00</td>\n",
       "      <td>1</td>\n",
       "    </tr>\n",
       "  </tbody>\n",
       "</table>\n",
       "</div>"
      ],
      "text/plain": [
       "        RI     Na    Mg    Al     Si     K     Ca   Ba    Fe  type\n",
       "0  1.51839  12.85  3.67  1.24  72.57  0.62   8.68  0.0  0.35     2\n",
       "1  1.52081  13.78  2.28  1.43  71.99  0.49   9.85  0.0  0.17     2\n",
       "2  1.51708  13.72  3.68  1.81  72.06  0.64   7.88  0.0  0.00     2\n",
       "3  1.52739  11.02  0.00  0.75  73.08  0.00  14.96  0.0  0.00     2\n",
       "4  1.52210  13.73  3.84  0.72  71.76  0.17   9.74  0.0  0.00     1"
      ]
     },
     "execution_count": 45,
     "metadata": {},
     "output_type": "execute_result"
    }
   ],
   "source": [
    "df2 = pd.read_csv(f\"{PATH_TO['data']['raw']}/df_train.csv\")\n",
    "df2.head()"
   ]
  },
  {
   "cell_type": "code",
   "execution_count": 33,
   "id": "5e3a4640",
   "metadata": {},
   "outputs": [
    {
     "data": {
      "text/plain": [
       "0      2\n",
       "1      2\n",
       "2      2\n",
       "3      2\n",
       "4      1\n",
       "      ..\n",
       "144    1\n",
       "145    2\n",
       "146    7\n",
       "147    1\n",
       "148    1\n",
       "Name: type, Length: 149, dtype: int64"
      ]
     },
     "execution_count": 33,
     "metadata": {},
     "output_type": "execute_result"
    }
   ],
   "source": [
    "t = pd.read_csv(f\"{PATH_TO['data']['raw']}/df_train.csv\", usecols=['type'])['type']\n",
    "t"
   ]
  },
  {
   "cell_type": "markdown",
   "id": "b3550e76",
   "metadata": {},
   "source": [
    "### Training data - shape\n",
    "\n",
    "Clearly, we can see that the we have a very small dataset and a lot of features given the number of records we have. Thus, we should take this into account and try to reduce the feature space so we avoid `curse of dimensonality`."
   ]
  },
  {
   "cell_type": "code",
   "execution_count": 50,
   "id": "a7c73007",
   "metadata": {},
   "outputs": [
    {
     "data": {
      "text/plain": [
       "(149, 9)"
      ]
     },
     "execution_count": 50,
     "metadata": {},
     "output_type": "execute_result"
    }
   ],
   "source": [
    "df.shape"
   ]
  },
  {
   "cell_type": "markdown",
   "id": "f5704624",
   "metadata": {},
   "source": [
    "### Definition of features\n",
    "\n",
    "Apart from `Refractive index`, we were also given glass fragment’s chemical composition in terms of the weight percent for each of eight different elements. Before training our model, we should definitely make sure that our data is normalized since `RI` \n",
    "\n",
    "#### RI (Refractive index)\n",
    "- standard measurement taken for forensic purposes since there is a signifficant variation between different type of glass and also because it is possible to be measured exactly even on small fragments of glass\n",
    "\n",
    "- Definition from [Wikipedia](https://en.wikipedia.org/wiki/Refractive_index):\n",
    "```\n",
    "In optics, the refractive index (also known as refraction index or index of refraction) of a material is a dimensionless number that describes how fast light travels through the material.\n",
    "```\n",
    "\n",
    "#### Na (Sodium)\n",
    "\n",
    "#### Mg (Magnesium)\n",
    "\n",
    "#### Al (Aluminum)\n",
    "\n",
    "#### Si (Silicon)\n",
    "\n",
    "#### K (Potassium)\n",
    "\n",
    "#### Ca (Calcium)\n",
    "\n",
    "#### Ba (Barium)\n",
    "\n",
    "#### Fe (Iron)"
   ]
  },
  {
   "cell_type": "markdown",
   "id": "7a4a3658",
   "metadata": {},
   "source": [
    "### Is row sum 100 %?"
   ]
  },
  {
   "cell_type": "code",
   "execution_count": 44,
   "id": "18f8d2c0",
   "metadata": {},
   "outputs": [
    {
     "data": {
      "text/plain": [
       "99.85"
      ]
     },
     "execution_count": 44,
     "metadata": {},
     "output_type": "execute_result"
    }
   ],
   "source": [
    "df.iloc[5, 1:].sum()"
   ]
  },
  {
   "cell_type": "markdown",
   "id": "ad6133af",
   "metadata": {},
   "source": [
    "### Numerical summary of all features\n",
    "\n",
    "#### Overall"
   ]
  },
  {
   "cell_type": "code",
   "execution_count": 36,
   "id": "14bbc2c7",
   "metadata": {},
   "outputs": [
    {
     "data": {
      "text/html": [
       "<div>\n",
       "<style scoped>\n",
       "    .dataframe tbody tr th:only-of-type {\n",
       "        vertical-align: middle;\n",
       "    }\n",
       "\n",
       "    .dataframe tbody tr th {\n",
       "        vertical-align: top;\n",
       "    }\n",
       "\n",
       "    .dataframe thead th {\n",
       "        text-align: right;\n",
       "    }\n",
       "</style>\n",
       "<table border=\"1\" class=\"dataframe\">\n",
       "  <thead>\n",
       "    <tr style=\"text-align: right;\">\n",
       "      <th></th>\n",
       "      <th>RI</th>\n",
       "      <th>Na</th>\n",
       "      <th>Mg</th>\n",
       "      <th>Al</th>\n",
       "      <th>Si</th>\n",
       "      <th>K</th>\n",
       "      <th>Ca</th>\n",
       "      <th>Ba</th>\n",
       "      <th>Fe</th>\n",
       "    </tr>\n",
       "  </thead>\n",
       "  <tbody>\n",
       "    <tr>\n",
       "      <th>count</th>\n",
       "      <td>149.000000</td>\n",
       "      <td>149.000000</td>\n",
       "      <td>149.000000</td>\n",
       "      <td>149.000000</td>\n",
       "      <td>149.000000</td>\n",
       "      <td>149.000000</td>\n",
       "      <td>149.000000</td>\n",
       "      <td>149.000000</td>\n",
       "      <td>149.000000</td>\n",
       "    </tr>\n",
       "    <tr>\n",
       "      <th>mean</th>\n",
       "      <td>1.518427</td>\n",
       "      <td>13.420470</td>\n",
       "      <td>2.724765</td>\n",
       "      <td>1.434698</td>\n",
       "      <td>72.623758</td>\n",
       "      <td>0.485168</td>\n",
       "      <td>8.924295</td>\n",
       "      <td>0.199799</td>\n",
       "      <td>0.061611</td>\n",
       "    </tr>\n",
       "    <tr>\n",
       "      <th>std</th>\n",
       "      <td>0.003213</td>\n",
       "      <td>0.863283</td>\n",
       "      <td>1.422193</td>\n",
       "      <td>0.506470</td>\n",
       "      <td>0.783145</td>\n",
       "      <td>0.569998</td>\n",
       "      <td>1.511192</td>\n",
       "      <td>0.553319</td>\n",
       "      <td>0.097642</td>\n",
       "    </tr>\n",
       "    <tr>\n",
       "      <th>min</th>\n",
       "      <td>1.511150</td>\n",
       "      <td>10.730000</td>\n",
       "      <td>0.000000</td>\n",
       "      <td>0.290000</td>\n",
       "      <td>69.810000</td>\n",
       "      <td>0.000000</td>\n",
       "      <td>5.430000</td>\n",
       "      <td>0.000000</td>\n",
       "      <td>0.000000</td>\n",
       "    </tr>\n",
       "    <tr>\n",
       "      <th>25%</th>\n",
       "      <td>1.516630</td>\n",
       "      <td>12.930000</td>\n",
       "      <td>2.280000</td>\n",
       "      <td>1.170000</td>\n",
       "      <td>72.280000</td>\n",
       "      <td>0.130000</td>\n",
       "      <td>8.220000</td>\n",
       "      <td>0.000000</td>\n",
       "      <td>0.000000</td>\n",
       "    </tr>\n",
       "    <tr>\n",
       "      <th>50%</th>\n",
       "      <td>1.517690</td>\n",
       "      <td>13.300000</td>\n",
       "      <td>3.490000</td>\n",
       "      <td>1.360000</td>\n",
       "      <td>72.780000</td>\n",
       "      <td>0.550000</td>\n",
       "      <td>8.590000</td>\n",
       "      <td>0.000000</td>\n",
       "      <td>0.000000</td>\n",
       "    </tr>\n",
       "    <tr>\n",
       "      <th>75%</th>\n",
       "      <td>1.519160</td>\n",
       "      <td>13.830000</td>\n",
       "      <td>3.610000</td>\n",
       "      <td>1.620000</td>\n",
       "      <td>73.050000</td>\n",
       "      <td>0.610000</td>\n",
       "      <td>9.140000</td>\n",
       "      <td>0.000000</td>\n",
       "      <td>0.110000</td>\n",
       "    </tr>\n",
       "    <tr>\n",
       "      <th>max</th>\n",
       "      <td>1.533930</td>\n",
       "      <td>17.380000</td>\n",
       "      <td>3.980000</td>\n",
       "      <td>3.500000</td>\n",
       "      <td>75.410000</td>\n",
       "      <td>6.210000</td>\n",
       "      <td>16.190000</td>\n",
       "      <td>3.150000</td>\n",
       "      <td>0.370000</td>\n",
       "    </tr>\n",
       "  </tbody>\n",
       "</table>\n",
       "</div>"
      ],
      "text/plain": [
       "               RI          Na          Mg          Al          Si           K  \\\n",
       "count  149.000000  149.000000  149.000000  149.000000  149.000000  149.000000   \n",
       "mean     1.518427   13.420470    2.724765    1.434698   72.623758    0.485168   \n",
       "std      0.003213    0.863283    1.422193    0.506470    0.783145    0.569998   \n",
       "min      1.511150   10.730000    0.000000    0.290000   69.810000    0.000000   \n",
       "25%      1.516630   12.930000    2.280000    1.170000   72.280000    0.130000   \n",
       "50%      1.517690   13.300000    3.490000    1.360000   72.780000    0.550000   \n",
       "75%      1.519160   13.830000    3.610000    1.620000   73.050000    0.610000   \n",
       "max      1.533930   17.380000    3.980000    3.500000   75.410000    6.210000   \n",
       "\n",
       "               Ca          Ba          Fe  \n",
       "count  149.000000  149.000000  149.000000  \n",
       "mean     8.924295    0.199799    0.061611  \n",
       "std      1.511192    0.553319    0.097642  \n",
       "min      5.430000    0.000000    0.000000  \n",
       "25%      8.220000    0.000000    0.000000  \n",
       "50%      8.590000    0.000000    0.000000  \n",
       "75%      9.140000    0.000000    0.110000  \n",
       "max     16.190000    3.150000    0.370000  "
      ]
     },
     "execution_count": 36,
     "metadata": {},
     "output_type": "execute_result"
    }
   ],
   "source": [
    "df.describe()"
   ]
  },
  {
   "cell_type": "markdown",
   "id": "01e2b1fa",
   "metadata": {},
   "source": [
    "**Key highlights**\n",
    "\n",
    "- The key material in all glass fragments seems to be `Silicon` with the mean of `72 %`. Second is `Sodium` with `13 %` and third `Calcium` with `8 %`. Perhaps, more interesting will be to look at this per given `type of glass`."
   ]
  },
  {
   "cell_type": "markdown",
   "id": "b0ff6a97",
   "metadata": {},
   "source": [
    "#### Mean per type per feature"
   ]
  },
  {
   "cell_type": "code",
   "execution_count": 49,
   "id": "075c4d7e",
   "metadata": {},
   "outputs": [
    {
     "data": {
      "text/html": [
       "<div>\n",
       "<style scoped>\n",
       "    .dataframe tbody tr th:only-of-type {\n",
       "        vertical-align: middle;\n",
       "    }\n",
       "\n",
       "    .dataframe tbody tr th {\n",
       "        vertical-align: top;\n",
       "    }\n",
       "\n",
       "    .dataframe thead th {\n",
       "        text-align: right;\n",
       "    }\n",
       "</style>\n",
       "<table border=\"1\" class=\"dataframe\">\n",
       "  <thead>\n",
       "    <tr style=\"text-align: right;\">\n",
       "      <th></th>\n",
       "      <th>RI</th>\n",
       "      <th>Na</th>\n",
       "      <th>Mg</th>\n",
       "      <th>Al</th>\n",
       "      <th>Si</th>\n",
       "      <th>K</th>\n",
       "      <th>Ca</th>\n",
       "      <th>Ba</th>\n",
       "      <th>Fe</th>\n",
       "    </tr>\n",
       "    <tr>\n",
       "      <th>type</th>\n",
       "      <th></th>\n",
       "      <th></th>\n",
       "      <th></th>\n",
       "      <th></th>\n",
       "      <th></th>\n",
       "      <th></th>\n",
       "      <th></th>\n",
       "      <th></th>\n",
       "      <th></th>\n",
       "    </tr>\n",
       "  </thead>\n",
       "  <tbody>\n",
       "    <tr>\n",
       "      <th>1</th>\n",
       "      <td>1.518684</td>\n",
       "      <td>13.241837</td>\n",
       "      <td>3.524694</td>\n",
       "      <td>1.167347</td>\n",
       "      <td>72.639388</td>\n",
       "      <td>0.457143</td>\n",
       "      <td>8.784286</td>\n",
       "      <td>0.014082</td>\n",
       "      <td>0.063469</td>\n",
       "    </tr>\n",
       "    <tr>\n",
       "      <th>2</th>\n",
       "      <td>1.518744</td>\n",
       "      <td>13.110189</td>\n",
       "      <td>3.080943</td>\n",
       "      <td>1.402642</td>\n",
       "      <td>72.555283</td>\n",
       "      <td>0.519623</td>\n",
       "      <td>9.028679</td>\n",
       "      <td>0.070000</td>\n",
       "      <td>0.087170</td>\n",
       "    </tr>\n",
       "    <tr>\n",
       "      <th>3</th>\n",
       "      <td>1.517991</td>\n",
       "      <td>13.399167</td>\n",
       "      <td>3.566667</td>\n",
       "      <td>1.185000</td>\n",
       "      <td>72.462500</td>\n",
       "      <td>0.375833</td>\n",
       "      <td>8.769167</td>\n",
       "      <td>0.012500</td>\n",
       "      <td>0.080833</td>\n",
       "    </tr>\n",
       "    <tr>\n",
       "      <th>5</th>\n",
       "      <td>1.519182</td>\n",
       "      <td>12.777778</td>\n",
       "      <td>0.938889</td>\n",
       "      <td>1.982222</td>\n",
       "      <td>72.344444</td>\n",
       "      <td>1.254444</td>\n",
       "      <td>10.236667</td>\n",
       "      <td>0.244444</td>\n",
       "      <td>0.031111</td>\n",
       "    </tr>\n",
       "    <tr>\n",
       "      <th>6</th>\n",
       "      <td>1.516820</td>\n",
       "      <td>14.913333</td>\n",
       "      <td>0.818333</td>\n",
       "      <td>1.305000</td>\n",
       "      <td>73.508333</td>\n",
       "      <td>0.000000</td>\n",
       "      <td>9.310000</td>\n",
       "      <td>0.000000</td>\n",
       "      <td>0.000000</td>\n",
       "    </tr>\n",
       "    <tr>\n",
       "      <th>7</th>\n",
       "      <td>1.517357</td>\n",
       "      <td>14.534500</td>\n",
       "      <td>0.691500</td>\n",
       "      <td>2.117000</td>\n",
       "      <td>72.724000</td>\n",
       "      <td>0.327500</td>\n",
       "      <td>8.377500</td>\n",
       "      <td>1.151000</td>\n",
       "      <td>0.010000</td>\n",
       "    </tr>\n",
       "  </tbody>\n",
       "</table>\n",
       "</div>"
      ],
      "text/plain": [
       "            RI         Na        Mg        Al         Si         K         Ca  \\\n",
       "type                                                                            \n",
       "1     1.518684  13.241837  3.524694  1.167347  72.639388  0.457143   8.784286   \n",
       "2     1.518744  13.110189  3.080943  1.402642  72.555283  0.519623   9.028679   \n",
       "3     1.517991  13.399167  3.566667  1.185000  72.462500  0.375833   8.769167   \n",
       "5     1.519182  12.777778  0.938889  1.982222  72.344444  1.254444  10.236667   \n",
       "6     1.516820  14.913333  0.818333  1.305000  73.508333  0.000000   9.310000   \n",
       "7     1.517357  14.534500  0.691500  2.117000  72.724000  0.327500   8.377500   \n",
       "\n",
       "            Ba        Fe  \n",
       "type                      \n",
       "1     0.014082  0.063469  \n",
       "2     0.070000  0.087170  \n",
       "3     0.012500  0.080833  \n",
       "5     0.244444  0.031111  \n",
       "6     0.000000  0.000000  \n",
       "7     1.151000  0.010000  "
      ]
     },
     "execution_count": 49,
     "metadata": {},
     "output_type": "execute_result"
    }
   ],
   "source": [
    "df2.groupby('type').mean()"
   ]
  },
  {
   "cell_type": "markdown",
   "id": "4e38dc12",
   "metadata": {},
   "source": [
    "**Key highlights**\n",
    "\n",
    "- From this table, we can clearly see that certain columns might be more helpful than others when it comes to classyfiying data. For example, `Calcium` seems as a good indicator to which the class given record belongs.\n",
    "\n",
    "- Interestingly, `types 1 - 3` have similar mean value for Magnesium and the same can be said about types `4 - 6`"
   ]
  },
  {
   "cell_type": "markdown",
   "id": "7bff718c",
   "metadata": {},
   "source": [
    "### Distribution plot"
   ]
  },
  {
   "cell_type": "code",
   "execution_count": 56,
   "id": "c18614aa",
   "metadata": {},
   "outputs": [
    {
     "ename": "KeyError",
     "evalue": "'type'",
     "output_type": "error",
     "traceback": [
      "\u001b[0;31m---------------------------------------------------------------------------\u001b[0m",
      "\u001b[0;31mKeyError\u001b[0m                                  Traceback (most recent call last)",
      "\u001b[0;32m<ipython-input-56-747fccc34123>\u001b[0m in \u001b[0;36m<module>\u001b[0;34m\u001b[0m\n\u001b[0;32m----> 1\u001b[0;31m \u001b[0mdf2\u001b[0m\u001b[0;34m[\u001b[0m\u001b[0;34m'RI'\u001b[0m\u001b[0;34m]\u001b[0m\u001b[0;34m.\u001b[0m\u001b[0mhist\u001b[0m\u001b[0;34m(\u001b[0m\u001b[0mby\u001b[0m \u001b[0;34m=\u001b[0m \u001b[0;34m'type'\u001b[0m\u001b[0;34m)\u001b[0m\u001b[0;34m;\u001b[0m\u001b[0;34m\u001b[0m\u001b[0;34m\u001b[0m\u001b[0m\n\u001b[0m",
      "\u001b[0;32m/Library/Frameworks/Python.framework/Versions/3.8/lib/python3.8/site-packages/pandas/plotting/_core.py\u001b[0m in \u001b[0;36mhist_series\u001b[0;34m(self, by, ax, grid, xlabelsize, xrot, ylabelsize, yrot, figsize, bins, backend, legend, **kwargs)\u001b[0m\n\u001b[1;32m     98\u001b[0m     \"\"\"\n\u001b[1;32m     99\u001b[0m     \u001b[0mplot_backend\u001b[0m \u001b[0;34m=\u001b[0m \u001b[0m_get_plot_backend\u001b[0m\u001b[0;34m(\u001b[0m\u001b[0mbackend\u001b[0m\u001b[0;34m)\u001b[0m\u001b[0;34m\u001b[0m\u001b[0;34m\u001b[0m\u001b[0m\n\u001b[0;32m--> 100\u001b[0;31m     return plot_backend.hist_series(\n\u001b[0m\u001b[1;32m    101\u001b[0m         \u001b[0mself\u001b[0m\u001b[0;34m,\u001b[0m\u001b[0;34m\u001b[0m\u001b[0;34m\u001b[0m\u001b[0m\n\u001b[1;32m    102\u001b[0m         \u001b[0mby\u001b[0m\u001b[0;34m=\u001b[0m\u001b[0mby\u001b[0m\u001b[0;34m,\u001b[0m\u001b[0;34m\u001b[0m\u001b[0;34m\u001b[0m\u001b[0m\n",
      "\u001b[0;32m/Library/Frameworks/Python.framework/Versions/3.8/lib/python3.8/site-packages/pandas/plotting/_matplotlib/hist.py\u001b[0m in \u001b[0;36mhist_series\u001b[0;34m(self, by, ax, grid, xlabelsize, xrot, ylabelsize, yrot, figsize, bins, legend, **kwds)\u001b[0m\n\u001b[1;32m    368\u001b[0m                 \u001b[0;34m\"'by' argument, since a new 'Figure' instance will be created\"\u001b[0m\u001b[0;34m\u001b[0m\u001b[0;34m\u001b[0m\u001b[0m\n\u001b[1;32m    369\u001b[0m             )\n\u001b[0;32m--> 370\u001b[0;31m         axes = _grouped_hist(\n\u001b[0m\u001b[1;32m    371\u001b[0m             \u001b[0mself\u001b[0m\u001b[0;34m,\u001b[0m\u001b[0;34m\u001b[0m\u001b[0;34m\u001b[0m\u001b[0m\n\u001b[1;32m    372\u001b[0m             \u001b[0mby\u001b[0m\u001b[0;34m=\u001b[0m\u001b[0mby\u001b[0m\u001b[0;34m,\u001b[0m\u001b[0;34m\u001b[0m\u001b[0;34m\u001b[0m\u001b[0m\n",
      "\u001b[0;32m/Library/Frameworks/Python.framework/Versions/3.8/lib/python3.8/site-packages/pandas/plotting/_matplotlib/hist.py\u001b[0m in \u001b[0;36m_grouped_hist\u001b[0;34m(data, column, by, ax, bins, figsize, layout, sharex, sharey, rot, grid, xlabelsize, xrot, ylabelsize, yrot, legend, **kwargs)\u001b[0m\n\u001b[1;32m    294\u001b[0m         \u001b[0mxrot\u001b[0m \u001b[0;34m=\u001b[0m \u001b[0mrot\u001b[0m\u001b[0;34m\u001b[0m\u001b[0;34m\u001b[0m\u001b[0m\n\u001b[1;32m    295\u001b[0m \u001b[0;34m\u001b[0m\u001b[0m\n\u001b[0;32m--> 296\u001b[0;31m     fig, axes = _grouped_plot(\n\u001b[0m\u001b[1;32m    297\u001b[0m         \u001b[0mplot_group\u001b[0m\u001b[0;34m,\u001b[0m\u001b[0;34m\u001b[0m\u001b[0;34m\u001b[0m\u001b[0m\n\u001b[1;32m    298\u001b[0m         \u001b[0mdata\u001b[0m\u001b[0;34m,\u001b[0m\u001b[0;34m\u001b[0m\u001b[0;34m\u001b[0m\u001b[0m\n",
      "\u001b[0;32m/Library/Frameworks/Python.framework/Versions/3.8/lib/python3.8/site-packages/pandas/plotting/_matplotlib/hist.py\u001b[0m in \u001b[0;36m_grouped_plot\u001b[0;34m(plotf, data, column, by, numeric_only, figsize, sharex, sharey, layout, rot, ax, **kwargs)\u001b[0m\n\u001b[1;32m    214\u001b[0m         )\n\u001b[1;32m    215\u001b[0m \u001b[0;34m\u001b[0m\u001b[0m\n\u001b[0;32m--> 216\u001b[0;31m     \u001b[0mgrouped\u001b[0m \u001b[0;34m=\u001b[0m \u001b[0mdata\u001b[0m\u001b[0;34m.\u001b[0m\u001b[0mgroupby\u001b[0m\u001b[0;34m(\u001b[0m\u001b[0mby\u001b[0m\u001b[0;34m)\u001b[0m\u001b[0;34m\u001b[0m\u001b[0;34m\u001b[0m\u001b[0m\n\u001b[0m\u001b[1;32m    217\u001b[0m     \u001b[0;32mif\u001b[0m \u001b[0mcolumn\u001b[0m \u001b[0;32mis\u001b[0m \u001b[0;32mnot\u001b[0m \u001b[0;32mNone\u001b[0m\u001b[0;34m:\u001b[0m\u001b[0;34m\u001b[0m\u001b[0;34m\u001b[0m\u001b[0m\n\u001b[1;32m    218\u001b[0m         \u001b[0mgrouped\u001b[0m \u001b[0;34m=\u001b[0m \u001b[0mgrouped\u001b[0m\u001b[0;34m[\u001b[0m\u001b[0mcolumn\u001b[0m\u001b[0;34m]\u001b[0m\u001b[0;34m\u001b[0m\u001b[0;34m\u001b[0m\u001b[0m\n",
      "\u001b[0;32m/Library/Frameworks/Python.framework/Versions/3.8/lib/python3.8/site-packages/pandas/core/series.py\u001b[0m in \u001b[0;36mgroupby\u001b[0;34m(self, by, axis, level, as_index, sort, group_keys, squeeze, observed, dropna)\u001b[0m\n\u001b[1;32m   1882\u001b[0m         \u001b[0;31m# error: Argument \"squeeze\" to \"SeriesGroupBy\" has incompatible type\u001b[0m\u001b[0;34m\u001b[0m\u001b[0;34m\u001b[0m\u001b[0;34m\u001b[0m\u001b[0m\n\u001b[1;32m   1883\u001b[0m         \u001b[0;31m# \"Union[bool, NoDefault]\"; expected \"bool\"\u001b[0m\u001b[0;34m\u001b[0m\u001b[0;34m\u001b[0m\u001b[0;34m\u001b[0m\u001b[0m\n\u001b[0;32m-> 1884\u001b[0;31m         return SeriesGroupBy(\n\u001b[0m\u001b[1;32m   1885\u001b[0m             \u001b[0mobj\u001b[0m\u001b[0;34m=\u001b[0m\u001b[0mself\u001b[0m\u001b[0;34m,\u001b[0m\u001b[0;34m\u001b[0m\u001b[0;34m\u001b[0m\u001b[0m\n\u001b[1;32m   1886\u001b[0m             \u001b[0mkeys\u001b[0m\u001b[0;34m=\u001b[0m\u001b[0mby\u001b[0m\u001b[0;34m,\u001b[0m\u001b[0;34m\u001b[0m\u001b[0;34m\u001b[0m\u001b[0m\n",
      "\u001b[0;32m/Library/Frameworks/Python.framework/Versions/3.8/lib/python3.8/site-packages/pandas/core/groupby/groupby.py\u001b[0m in \u001b[0;36m__init__\u001b[0;34m(self, obj, keys, axis, level, grouper, exclusions, selection, as_index, sort, group_keys, squeeze, observed, mutated, dropna)\u001b[0m\n\u001b[1;32m    887\u001b[0m             \u001b[0;32mfrom\u001b[0m \u001b[0mpandas\u001b[0m\u001b[0;34m.\u001b[0m\u001b[0mcore\u001b[0m\u001b[0;34m.\u001b[0m\u001b[0mgroupby\u001b[0m\u001b[0;34m.\u001b[0m\u001b[0mgrouper\u001b[0m \u001b[0;32mimport\u001b[0m \u001b[0mget_grouper\u001b[0m\u001b[0;34m\u001b[0m\u001b[0;34m\u001b[0m\u001b[0m\n\u001b[1;32m    888\u001b[0m \u001b[0;34m\u001b[0m\u001b[0m\n\u001b[0;32m--> 889\u001b[0;31m             grouper, exclusions, obj = get_grouper(\n\u001b[0m\u001b[1;32m    890\u001b[0m                 \u001b[0mobj\u001b[0m\u001b[0;34m,\u001b[0m\u001b[0;34m\u001b[0m\u001b[0;34m\u001b[0m\u001b[0m\n\u001b[1;32m    891\u001b[0m                 \u001b[0mkeys\u001b[0m\u001b[0;34m,\u001b[0m\u001b[0;34m\u001b[0m\u001b[0;34m\u001b[0m\u001b[0m\n",
      "\u001b[0;32m/Library/Frameworks/Python.framework/Versions/3.8/lib/python3.8/site-packages/pandas/core/groupby/grouper.py\u001b[0m in \u001b[0;36mget_grouper\u001b[0;34m(obj, key, axis, level, sort, observed, mutated, validate, dropna)\u001b[0m\n\u001b[1;32m    860\u001b[0m                 \u001b[0min_axis\u001b[0m\u001b[0;34m,\u001b[0m \u001b[0mlevel\u001b[0m\u001b[0;34m,\u001b[0m \u001b[0mgpr\u001b[0m \u001b[0;34m=\u001b[0m \u001b[0;32mFalse\u001b[0m\u001b[0;34m,\u001b[0m \u001b[0mgpr\u001b[0m\u001b[0;34m,\u001b[0m \u001b[0;32mNone\u001b[0m\u001b[0;34m\u001b[0m\u001b[0;34m\u001b[0m\u001b[0m\n\u001b[1;32m    861\u001b[0m             \u001b[0;32melse\u001b[0m\u001b[0;34m:\u001b[0m\u001b[0;34m\u001b[0m\u001b[0;34m\u001b[0m\u001b[0m\n\u001b[0;32m--> 862\u001b[0;31m                 \u001b[0;32mraise\u001b[0m \u001b[0mKeyError\u001b[0m\u001b[0;34m(\u001b[0m\u001b[0mgpr\u001b[0m\u001b[0;34m)\u001b[0m\u001b[0;34m\u001b[0m\u001b[0;34m\u001b[0m\u001b[0m\n\u001b[0m\u001b[1;32m    863\u001b[0m         \u001b[0;32melif\u001b[0m \u001b[0misinstance\u001b[0m\u001b[0;34m(\u001b[0m\u001b[0mgpr\u001b[0m\u001b[0;34m,\u001b[0m \u001b[0mGrouper\u001b[0m\u001b[0;34m)\u001b[0m \u001b[0;32mand\u001b[0m \u001b[0mgpr\u001b[0m\u001b[0;34m.\u001b[0m\u001b[0mkey\u001b[0m \u001b[0;32mis\u001b[0m \u001b[0;32mnot\u001b[0m \u001b[0;32mNone\u001b[0m\u001b[0;34m:\u001b[0m\u001b[0;34m\u001b[0m\u001b[0;34m\u001b[0m\u001b[0m\n\u001b[1;32m    864\u001b[0m             \u001b[0;31m# Add key to exclusions\u001b[0m\u001b[0;34m\u001b[0m\u001b[0;34m\u001b[0m\u001b[0;34m\u001b[0m\u001b[0m\n",
      "\u001b[0;31mKeyError\u001b[0m: 'type'"
     ]
    }
   ],
   "source": [
    "DataFrame.hist()"
   ]
  },
  {
   "cell_type": "markdown",
   "id": "e5db2d9e",
   "metadata": {
    "cell_id": "00018-274fcacb-327b-47d2-92bc-99c24fb8d237",
    "deepnote_cell_type": "markdown",
    "deepnote_to_be_reexecuted": false,
    "execution_millis": 0,
    "execution_start": 1637756448447,
    "source_hash": "d6be7813",
    "tags": []
   },
   "source": [
    "## 03 Custom Implementations\n",
    "---"
   ]
  },
  {
   "cell_type": "markdown",
   "id": "76df55f8",
   "metadata": {
    "cell_id": "00018-1bb305fc-12ee-40f2-b380-c043b2f38b00",
    "deepnote_cell_type": "markdown",
    "tags": []
   },
   "source": [
    "## #04 Training and Evaluating Models\n",
    "---"
   ]
  },
  {
   "cell_type": "markdown",
   "id": "7d39331b",
   "metadata": {
    "cell_id": "00019-30670fed-add9-4bcb-b4eb-124282d1ce25",
    "deepnote_cell_type": "markdown",
    "tags": []
   },
   "source": [
    "### Decision Trees\n",
    "---"
   ]
  },
  {
   "cell_type": "markdown",
   "id": "696e8b77",
   "metadata": {
    "cell_id": "00020-2f5fc8bb-9185-4c7a-acd7-47084ecb7047",
    "deepnote_cell_type": "markdown",
    "tags": []
   },
   "source": [
    "### Neural Networks\n",
    "---"
   ]
  },
  {
   "cell_type": "markdown",
   "id": "e7b0d164",
   "metadata": {
    "cell_id": "00021-6a520bc1-1968-44eb-87f2-e9b70e068819",
    "deepnote_cell_type": "markdown",
    "tags": []
   },
   "source": [
    "### Ensemble Classifier\n",
    "---"
   ]
  }
 ],
 "metadata": {
  "deepnote": {},
  "deepnote_execution_queue": [],
  "deepnote_notebook_id": "5befc242-845e-4d7f-adb3-0e0bb747a3d1",
  "kernelspec": {
   "display_name": "Python 3",
   "language": "python",
   "name": "python3"
  },
  "language_info": {
   "codemirror_mode": {
    "name": "ipython",
    "version": 3
   },
   "file_extension": ".py",
   "mimetype": "text/x-python",
   "name": "python",
   "nbconvert_exporter": "python",
   "pygments_lexer": "ipython3",
   "version": "3.8.5"
  }
 },
 "nbformat": 4,
 "nbformat_minor": 5
}
